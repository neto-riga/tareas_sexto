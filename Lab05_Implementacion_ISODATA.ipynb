{
  "cells": [
    {
      "cell_type": "markdown",
      "metadata": {},
      "source": [
        "<a target=\"_blank\" href=\"https://colab.research.google.com/github/Detroxsys/RP-2023-2/blob/main/Laboratorios/Lab05%20ISODATA%20implementacion/Lab05_Implementacion_ISODATA.ipynb\">\n",
        "  <img src=\"https://colab.research.google.com/assets/colab-badge.svg\" alt=\"Open In Colab\"/>\n",
        "</a>"
      ]
    },
    {
      "cell_type": "markdown",
      "metadata": {
        "id": "Vh4DFCcJGyxt"
      },
      "source": [
        "# Laboratorio 05: Implementar ISODATA"
      ]
    },
    {
      "cell_type": "code",
      "execution_count": 2,
      "metadata": {
        "id": "eRh_gCMPGs-P"
      },
      "outputs": [],
      "source": [
        "#Librerías a utilizar\n",
        "import numpy as np #Para distancias y manipulacion de arreglos\n",
        "import matplotlib.pyplot as plt #Graficación."
      ]
    },
    {
      "cell_type": "markdown",
      "metadata": {
        "id": "PBXKLSWcG3VW"
      },
      "source": [
        "## Implementa el algoritmo (7 puntos)"
      ]
    },
    {
      "cell_type": "markdown",
      "metadata": {
        "id": "sYsnLKFJHvq7"
      },
      "source": [
        "Implementar el algoritmo de ISODATA. \n",
        "* Comentar en el código que paso se esta implementando. \n",
        "* Documentar cada función utilizada. \n",
        "\n",
        "Lo siguiente es una sugerencia de la estructura, no es obligatorio seguirla al pie de la letra. "
      ]
    },
    {
      "cell_type": "code",
      "execution_count": 101,
      "metadata": {
        "id": "v0eCyHkkG5mw"
      },
      "outputs": [],
      "source": [
        "class ISODATA(): \n",
        "  def __init__(self, data, centers): \n",
        "    \"\"\"\n",
        "    Función que recibe los parámetros del algorítmo donde\n",
        "    data [np.ndarray]: los patrones a clasificar\n",
        "    centers [np.ndarray]: los centros iniciales\n",
        "    \"\"\"\n",
        "    self.m, self.n = data.shape # m = # de patrones n la dim.\n",
        "    self.X = data.copy() # Para no modificar los originales\n",
        "    self.c = len(centers) # la cantidad de centros iniciales\n",
        "    self.Y = centers.copy() # Clusters iniciales\n",
        "    self.Z = self.Y.copy() # Clusters iniciales\n",
        "\n",
        "  def eculidean_dist(self, x, y):\n",
        "    \"\"\"\n",
        "    Función que calcula distancia euclideana dados dos puntos\n",
        "    \"\"\"\n",
        "    return np.linalg.norm(x-y)\n",
        "\n",
        "  def assign_clusters(self): \n",
        "    \"\"\"\n",
        "    Función que asigna cada patrón a su cluster más cercano\n",
        "    \"\"\"\n",
        "    self.classification = dict() # Para guardar la clasificación de cada patrón\n",
        "    self.cluster_count = {cluster:0 for cluster in range(self.c)} # contamos elementos por cluster\n",
        "    # Buscamos para cada patron\n",
        "    for indx, patron in enumerate(self.X):\n",
        "      # Obtenemos las distancias respecto a los centros\n",
        "      distances = [self.eculidean_dist(patron, center) for center in self.Y]\n",
        "      distances = np.array(distances)\n",
        "      cluster = np.argmin(distances) # Encontramos la distancia mínima\n",
        "\n",
        "      self.classification[indx] = cluster\n",
        "      self.cluster_count[cluster] += 1\n",
        "\n",
        "  def drop_clusters(self): \n",
        "    \"\"\"\n",
        "    Función que elimina un cluster si sus patrones\n",
        "    asignados son menores a m0 y distribuye sus \n",
        "    patrones al resto de los clusters\n",
        "    \"\"\"\n",
        "    # Verificamos los clusters que no cumplen la condición\n",
        "    por_borrar = [center for center, count in self.cluster_count.items() if count < self.m0]\n",
        "    # Los eliminamos\n",
        "    self.Y = np.delete(self.Y, por_borrar, axis=0)\n",
        "    self.c = len(self.Y) # actualizamos el número de centros\n",
        "    self.assign_clusters() # Reasignamos clusters\n",
        "    \n",
        "  def update_centers(self): \n",
        "    \"\"\"\n",
        "    Actualizamos los centros de cada cluster\n",
        "    \"\"\"\n",
        "    # sumamos los patrones de cada cluster y almacenamos en un arreglo\n",
        "    Y_new = np.zeros_like(self.Y)\n",
        "    for pat_indx, center in self.classification.items():\n",
        "      Y_new[center] += self.X[pat_indx]\n",
        "    \n",
        "    Y_new /= np.array(\n",
        "      tuple(self.cluster_count.values()) # Vector con el conteo de los patrones x cluster\n",
        "      ).reshape(self.c,1) # reshape para que funcione np.divide entre vectores\n",
        "    \n",
        "    self.Y = Y_new.copy() # Actualizamos \n",
        "\n",
        "  def compute_distances(self): \n",
        "    \"\"\"\n",
        "    Función que calcula el promedio entre la distancia de cada cluster\n",
        "    y sus respectivos patrones y la distancia global\n",
        "    \"\"\"\n",
        "    d = np.zeros(self.c)\n",
        "    # Sumamos la distancia de cada patron a su centro\n",
        "    for pat_indx, center in self.classification.items():\n",
        "      d[center] += self.eculidean_dist(self.X[pat_indx], self.Y[center])\n",
        "\n",
        "    self.g_global = np.sum(d) / self.X.shape[0] # Para el paso 6\n",
        "    \n",
        "    # Promediamos por cluster\n",
        "    d /= np.array(\n",
        "      tuple(self.cluster_count.values()) # Vector con el conteo de los patrones x cluster\n",
        "      )\n",
        "    \n",
        "    self.avg_dist = d # Paso 5\n",
        "\n",
        "\n",
        "  def compute_std(self): \n",
        "    \"\"\"\n",
        "    Calcular la desviación estándar\n",
        "    \"\"\"\n",
        "    std = np.zeros_like(self.Y)\n",
        "    # Sumamos\n",
        "    for pat_indx, center in self.classification.items():\n",
        "      std[center] += np.power(self.X[pat_indx] - self.Y[center], 2)\n",
        "\n",
        "    # Dividimos\n",
        "    std /= np.array(tuple(self.cluster_count.values())).reshape(len(std), 1)\n",
        "    # Sacamos raíz\n",
        "    self.std = np.sqrt(std)\n",
        "\n",
        "    # Guardamos los máximos de cada coordenada\n",
        "    self.std_max = [(np.argmax(s), np.max(s)) for s in self.std]\n",
        "\n",
        "  def splitting_clusters(self): \n",
        "    #Función para separar clusters. \n",
        "    pass\n",
        "  def lumping_clusters(self): \n",
        "    #Función para combinar clusters. \n",
        "    pass\n",
        "  def compute_dist_bwtn__centers(self): \n",
        "    #Calcular la distancia entre los centros \n",
        "    pass\n",
        "  \n",
        "  def classsifier(self, k, m0, s0, lamb, d0, l, eps, max_iter): \n",
        "    \"\"\"\n",
        "    Función que realiza isodata con los siguientes parámetros\n",
        "    k: número de clusters deseados\n",
        "    m0: mínimo de patrones para ser cluster\n",
        "    s0: límite de desviación estándar para particiones\n",
        "    lamb: cota para partición, lamb pertence (0,1)\n",
        "    d0: cota para combinar clusters\n",
        "    l: número máximo de clusters combinados simultáneamente\n",
        "    eps: tolerancia\n",
        "    max_iter: máximo de iteraciones\n",
        "    \"\"\"\n",
        "\n",
        "    self.k = k\n",
        "    self.m0 = m0\n",
        "    self.s0 = s0\n",
        "    self.lamb = lamb\n",
        "    self.d0 = d0\n",
        "    self.l = l\n",
        "    self.eps = eps\n",
        "    self.max_iter = max_iter\n",
        "\n",
        "    # Paso 1\n",
        "    # como S y L guardan el *historial* de las iteraciones\n",
        "    # Necesitamos que sean vectores inicializados en 2\n",
        "    self.it = 0 # Iteración actual\n",
        "    self.S = np.zeros(self.max_iter+1) + 2\n",
        "    self.L = self.S.copy()\n",
        "\n",
        "    while self.it < self.max_iter+1:\n",
        "      # Paso 2\n",
        "      self.NC = 1 # Para indicar los cambios en los centros\n",
        "      self.Z = self.Y.copy()\n",
        "      self.assign_clusters() # asignamos los patrones a sus centros\n",
        "      \n",
        "      # Paso 3\n",
        "      self.drop_clusters()\n",
        "\n",
        "      # Paso 4\n",
        "      self.update_centers()\n",
        "      if len(self.Y) == self.c:\n",
        "        suma_tol = np.sum(\n",
        "          # arrglo con la distancia de los nuevos centros y los centros pasados\n",
        "          [self.eculidean_dist(self.Y[indx], self.Z[indx]) for indx in range(self.c)] \n",
        "          ) # sumamos\n",
        "        if suma_tol <= self.eps:\n",
        "          self.NC = 0\n",
        "      \n",
        "      # Paso 5 y 6\n",
        "      self.compute_distances()\n",
        "\n",
        "      self.compute_std()\n",
        "\n",
        "      # Paso 7\n",
        "      if self.it == self.max_iter:\n",
        "        # Paso 13\n",
        "        pass\n",
        "      else:\n",
        "        if self.c <= (self.k + 1) / 2:\n",
        "          # Paso 8\n",
        "          self.S[self.it] = 0\n",
        "          self.compute_std() # Calcular la desviación estándar\n",
        "\n",
        "          # Paso 9\n",
        "          if self.splitting_clusters(): # Si se dividieron clusters\n",
        "            self.S[self.it] = 1\n",
        "            continue\n",
        "          else:\n",
        "            if self.it > 1 and self.L[self.it-1] == 0: # Si no se partieron clusters en la pasada\n",
        "              if self.NC == 0:\n",
        "                break\n",
        "              if self.NC == 1:\n",
        "                continue\n",
        "          \n",
        "\n",
        "      self.it += 1\n",
        "\n",
        "\n"
      ]
    },
    {
      "cell_type": "markdown",
      "metadata": {
        "id": "4XaZ_Xc2KXsL"
      },
      "source": [
        "## Test del algoritmo (1 punto)"
      ]
    },
    {
      "cell_type": "markdown",
      "metadata": {
        "id": "Ahu1hzo-KfXQ"
      },
      "source": [
        "Prueba el algoritmo con los siguientes patrones y grafica el resultado. "
      ]
    },
    {
      "cell_type": "code",
      "execution_count": 80,
      "metadata": {
        "id": "HdwaKDb-KbGn"
      },
      "outputs": [],
      "source": [
        "X = np.array([  [0,0], \n",
        "                [1,0], \n",
        "                [1,1], \n",
        "                [0,1],\n",
        "                [4,1],\n",
        "                [5,1], \n",
        "                [5,2],\n",
        "                [7,1],\n",
        "                [7,2],\n",
        "                [6,3],\n",
        "                [2,3],\n",
        "                [1,4],\n",
        "                [2,5],\n",
        "                [3,5] ], dtype=float)\n",
        "\n",
        "Y = np.array( [ [0,0], \n",
        "                [4,1],\n",
        "                [7,2], \n",
        "                [2,3],\n",
        "                [3,5]], dtype=float)"
      ]
    },
    {
      "cell_type": "code",
      "execution_count": 102,
      "metadata": {},
      "outputs": [
        {
          "name": "stdout",
          "output_type": "stream",
          "text": [
            "[[0.5        0.5       ]\n",
            " [0.47140452 0.47140452]\n",
            " [0.47140452 0.81649658]\n",
            " [0.5        0.5       ]\n",
            " [0.5        0.        ]]\n",
            "[(0, 0.5), (0, 0.4714045207910317), (1, 0.816496580927726), (0, 0.5), (0, 0.5)]\n",
            "[[0.5        0.5       ]\n",
            " [0.47140452 0.47140452]\n",
            " [0.47140452 0.81649658]\n",
            " [0.5        0.5       ]\n",
            " [0.5        0.        ]]\n",
            "[(0, 0.5), (0, 0.4714045207910317), (1, 0.816496580927726), (0, 0.5), (0, 0.5)]\n",
            "[[0.5        0.5       ]\n",
            " [0.47140452 0.47140452]\n",
            " [0.47140452 0.81649658]\n",
            " [0.5        0.5       ]\n",
            " [0.5        0.        ]]\n",
            "[(0, 0.5), (0, 0.4714045207910317), (1, 0.816496580927726), (0, 0.5), (0, 0.5)]\n",
            "[[0.5        0.5       ]\n",
            " [0.47140452 0.47140452]\n",
            " [0.47140452 0.81649658]\n",
            " [0.5        0.5       ]\n",
            " [0.5        0.        ]]\n",
            "[(0, 0.5), (0, 0.4714045207910317), (1, 0.816496580927726), (0, 0.5), (0, 0.5)]\n"
          ]
        }
      ],
      "source": [
        "isodata = ISODATA(X, Y)\n",
        "isodata.classsifier(k=3, m0=2, s0=1.5, lamb=0.5,\n",
        "                    d0=2.5, l=2, max_iter=3, eps=0.1)"
      ]
    },
    {
      "cell_type": "markdown",
      "metadata": {
        "id": "YVMt5T7CNeJR"
      },
      "source": [
        "## Mini-Cuestionario (2 puntos)"
      ]
    },
    {
      "cell_type": "markdown",
      "metadata": {
        "id": "eIvwdU3LOVJS"
      },
      "source": [
        "### Opinión: "
      ]
    },
    {
      "cell_type": "markdown",
      "metadata": {
        "id": "Oa6Cx9ssOPH7"
      },
      "source": [
        "### Conteste las 4 preguntas típicas de análisis y diseño de algoritmos\n",
        "\n",
        "\n",
        "**1. ¿Es correcto?**\n",
        "\n",
        "**2. ¿Complejidad temporal?**\n",
        "\n",
        "\n",
        "**3. ¿Complejidad espacial?**\n",
        "\n",
        "\n",
        "**4. ¿Ventajas y desventajas?**\n"
      ]
    }
  ],
  "metadata": {
    "colab": {
      "provenance": [],
      "toc_visible": true
    },
    "kernelspec": {
      "display_name": "Python 3",
      "name": "python3"
    },
    "language_info": {
      "codemirror_mode": {
        "name": "ipython",
        "version": 3
      },
      "file_extension": ".py",
      "mimetype": "text/x-python",
      "name": "python",
      "nbconvert_exporter": "python",
      "pygments_lexer": "ipython3",
      "version": "3.10.6"
    }
  },
  "nbformat": 4,
  "nbformat_minor": 0
}
